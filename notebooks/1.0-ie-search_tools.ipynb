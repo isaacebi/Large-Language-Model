{
 "cells": [
  {
   "cell_type": "code",
   "execution_count": 28,
   "metadata": {},
   "outputs": [],
   "source": [
    "from llama_index.core import VectorStoreIndex, SimpleDirectoryReader, Settings\n",
    "from llama_index.core.embeddings import resolve_embed_model\n",
    "from llama_index.llms.ollama import Ollama\n",
    "from llama_index.readers.file import PDFReader, PyMuPDFReader\n",
    "\n",
    "from crewai import Agent, Task, Crew, Process\n",
    "import os"
   ]
  },
  {
   "cell_type": "code",
   "execution_count": 26,
   "metadata": {},
   "outputs": [],
   "source": [
    "PROJECT_DIR = os.path.dirname(os.getcwd())\n",
    "DATA_PATH = os.path.join(PROJECT_DIR, 'data')\n",
    "RAW_PATH = os.path.join(DATA_PATH, 'raw')\n",
    "\n",
    "PDF_FILE = os.path.join(RAW_PATH, 'fishes-08-00610.pdf')"
   ]
  },
  {
   "cell_type": "code",
   "execution_count": 35,
   "metadata": {},
   "outputs": [],
   "source": [
    "documents = SimpleDirectoryReader(RAW_PATH).load_data()\n",
    "\n",
    "# bge embedding model\n",
    "Settings.embed_model = resolve_embed_model(\"local:BAAI/bge-small-en-v1.5\")\n",
    "\n",
    "# ollama\n",
    "Settings.llm = Ollama(model=\"mistral\", temperature=0.3)\n",
    "\n",
    "index = VectorStoreIndex.from_documents(\n",
    "    documents,\n",
    ")"
   ]
  },
  {
   "cell_type": "code",
   "execution_count": 38,
   "metadata": {},
   "outputs": [
    {
     "name": "stdout",
     "output_type": "stream",
     "text": [
      " I'm unable to read or display the contents of a file directly from this text. However, based on the context provided, it appears that the file is a PDF document named \"fishes-08-00610.pdf\" located at \"c:\\Users\\isaac\\Desktop\\GitHub\\Large-Language-Model\\data\\raw\". The document contains information related to aquaculture, specifically about green and hybrid giant grouper farms in Taiwan. It includes tables with Mahalanobis distances and canonical discriminant function analysis results.\n"
     ]
    }
   ],
   "source": [
    "pdf_doc = PyMuPDFReader().load_data(file_path=PDF_FILE)\n",
    "\n",
    "index = VectorStoreIndex.from_documents(\n",
    "    pdf_doc\n",
    ")\n",
    "\n",
    "query_engine = index.as_query_engine()\n",
    "response = query_engine.query(\"Read me the file\")\n",
    "print(response)"
   ]
  },
  {
   "cell_type": "code",
   "execution_count": null,
   "metadata": {},
   "outputs": [],
   "source": []
  }
 ],
 "metadata": {
  "kernelspec": {
   "display_name": "crew_env",
   "language": "python",
   "name": "python3"
  },
  "language_info": {
   "codemirror_mode": {
    "name": "ipython",
    "version": 3
   },
   "file_extension": ".py",
   "mimetype": "text/x-python",
   "name": "python",
   "nbconvert_exporter": "python",
   "pygments_lexer": "ipython3",
   "version": "3.10.14"
  }
 },
 "nbformat": 4,
 "nbformat_minor": 2
}
