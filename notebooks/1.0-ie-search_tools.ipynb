{
 "cells": [
  {
   "cell_type": "code",
   "execution_count": 1,
   "metadata": {},
   "outputs": [],
   "source": [
    "from llama_index.core import VectorStoreIndex, SimpleDirectoryReader, Settings\n",
    "from llama_index.core.embeddings import resolve_embed_model\n",
    "from llama_index.llms.ollama import Ollama\n",
    "from llama_index.readers.file import PDFReader, PyMuPDFReader\n",
    "\n",
    "from pdfminer.high_level import extract_text\n",
    "\n",
    "from crewai import Agent, Task, Crew, Process\n",
    "import os"
   ]
  },
  {
   "cell_type": "code",
   "execution_count": 2,
   "metadata": {},
   "outputs": [],
   "source": [
    "PROJECT_DIR = os.path.dirname(os.getcwd())\n",
    "DATA_PATH = os.path.join(PROJECT_DIR, 'data')\n",
    "RAW_PATH = os.path.join(DATA_PATH, 'raw')\n",
    "TEXT_DIR = os.path.join(DATA_PATH, 'text')"
   ]
  },
  {
   "cell_type": "code",
   "execution_count": 3,
   "metadata": {},
   "outputs": [],
   "source": [
    "pdfs = []\n",
    "for pdf in os.listdir(RAW_PATH):\n",
    "    if '.pdf' in pdf:\n",
    "        pdfs.append(os.path.join(RAW_PATH, pdf))"
   ]
  },
  {
   "cell_type": "code",
   "execution_count": null,
   "metadata": {},
   "outputs": [],
   "source": [
    "for pdf in pdfs:\n",
    "    txt_path = os.path.join(RAW_PATH, 'contents.txt')\n",
    "    with open(txt_path, 'a') as f:\n",
    "        text = extract_text(pdf)\n",
    "        f.write(text)"
   ]
  },
  {
   "cell_type": "code",
   "execution_count": 4,
   "metadata": {},
   "outputs": [],
   "source": [
    "# bge embedding model\n",
    "Settings.embed_model = resolve_embed_model(\"local:BAAI/bge-small-en-v1.5\")\n",
    "\n",
    "# ollama\n",
    "Settings.llm = Ollama(model=\"mistral\", temperature=0.3)"
   ]
  },
  {
   "cell_type": "code",
   "execution_count": 5,
   "metadata": {},
   "outputs": [],
   "source": [
    "documents = SimpleDirectoryReader(RAW_PATH).load_data()\n",
    "\n",
    "index = VectorStoreIndex.from_documents(\n",
    "    documents,\n",
    ")"
   ]
  },
  {
   "cell_type": "code",
   "execution_count": 6,
   "metadata": {},
   "outputs": [
    {
     "name": "stdout",
     "output_type": "stream",
     "text": [
      " Based on the provided context information, there are a total of 38 text files mentioned.\n"
     ]
    }
   ],
   "source": [
    "query_engine = index.as_query_engine()\n",
    "response = query_engine.query(\"How many text file are there?\")\n",
    "print(response)"
   ]
  },
  {
   "cell_type": "code",
   "execution_count": null,
   "metadata": {},
   "outputs": [],
   "source": [
    "import os\n",
    "from crewai import Agent, Task, Crew, Process\n",
    "from langchain.tools import DuckDuckGoSearchRun\n",
    "from langchain_community.tools.semanticscholar.tool import SemanticScholarQueryRun\n",
    "\n",
    "from langchain.llms import Ollama"
   ]
  },
  {
   "cell_type": "code",
   "execution_count": null,
   "metadata": {},
   "outputs": [],
   "source": [
    "search_tool = DuckDuckGoSearchRun()\n",
    "ollama_llm = Ollama(model=\"mistral\")"
   ]
  },
  {
   "cell_type": "code",
   "execution_count": null,
   "metadata": {},
   "outputs": [],
   "source": []
  },
  {
   "cell_type": "code",
   "execution_count": null,
   "metadata": {},
   "outputs": [],
   "source": [
    "# # Define your agents with roles and goals\n",
    "# researcher = Agent(\n",
    "#   role='Senior AI Researcher',\n",
    "#   goal='To identify potential of AI in the field of hybrid grouper aquaculture',\n",
    "#   backstory=\"\"\"A highly skilled researcher in both field of hybrid grouper aquaculture and AI\"\"\",\n",
    "#   verbose=True,\n",
    "#   allow_delegation=True,\n",
    "#   tools=[search_tool, SemanticScholarQueryRun()],\n",
    "#   llm=ollama_llm\n",
    "# )\n",
    "\n",
    "# writer = Agent(\n",
    "#     role='A highly skilled research writer',\n",
    "#     goal='Provide the full research paper for submission in high impact journal',\n",
    "#     backstory=\"\"\"Experienced research paper writer which submitted more than 100 research paper to high impact journal\"\"\",\n",
    "#     verbose=True,\n",
    "#     allow_delegation=False,\n",
    "#     llm=ollama_llm\n",
    "# )\n",
    "\n",
    "# reviewer = Agent(\n",
    "#     role='Highly skilled and experienced writer and editor',\n",
    "#     goal=\"\"\"Provide the full research paper for submission in high impact journal\"\"\",\n",
    "#     backstory=\"\"\"As an experienced writer and editor, your role is to meticulously review all written content, validating references for accuracy and novelty. \n",
    "#     Your task is to ensure the text meets the high standards necessary for acceptance into a prestigious high-impact research journal. Your expertise will be\n",
    "#      instrumental in guaranteeing the quality and relevance of the submission.\"\"\",\n",
    "#     verbose=True,\n",
    "#     allow_delegation=True,\n",
    "#     tools=[search_tool, SemanticScholarQueryRun()],\n",
    "#     llm=ollama_llm\n",
    "# )\n",
    "\n",
    "# # Create tasks for your agents\n",
    "# task1 = Task(\n",
    "#   description=\"\"\"Get the knowledge of hybrid grouper and AI application in the field of hybrid grouper aquaculture from the year 2020 to 2024\"\"\",\n",
    "#   expected_output = \"50 references and its summary in markdown\",\n",
    "#   agent=researcher\n",
    "# )\n",
    "\n",
    "# task2 = Task(\n",
    "#     description=\"\"\"Write a review research paper tailored for submission to a high-impact journal focussing on AI application to hybrid grouper aquaculture.\n",
    "#     The paper should encompass essential sections including an introduction, current state of art method, research gap identification, comprehensive discussion, conclusion, and abstract. \n",
    "#     Ensure each section is meticulously crafted to meet the standards of high-impact journals, showcasing the significance and novelty of the research findings.\"\"\",\n",
    "#     expected_output = \"Full research paper in markdown\",\n",
    "#     agent=writer\n",
    "# )\n",
    "\n",
    "# task3 = Task(\n",
    "#     description=\"\"\"Conduct a thorough review of the paper to ensure its alignment with the standards required for submission to a high-impact journal. Evaluate the content,\n",
    "#     structure, clarity, and novelty of the research to enhance its suitability for publication in a prestigious academic journal. Lastly, output me the refined text in markdown\"\"\",\n",
    "#     expected_output = \"Give me the full refined research paper in markdown\", \n",
    "#     agent=reviewer\n",
    "# )\n",
    "\n",
    "# # Instantiate your crew with a sequential process\n",
    "# crew = Crew(\n",
    "#     agents=[researcher, writer, reviewer],\n",
    "#     tasks=[task1, task2],\n",
    "#     verbose=2\n",
    "# )\n",
    "\n",
    "# # Get your crew to work!\n",
    "# result = crew.kickoff()\n",
    "\n",
    "# print(\"######################\")\n",
    "# print(result)"
   ]
  },
  {
   "cell_type": "code",
   "execution_count": null,
   "metadata": {},
   "outputs": [],
   "source": []
  }
 ],
 "metadata": {
  "kernelspec": {
   "display_name": "crew_env",
   "language": "python",
   "name": "python3"
  },
  "language_info": {
   "codemirror_mode": {
    "name": "ipython",
    "version": 3
   },
   "file_extension": ".py",
   "mimetype": "text/x-python",
   "name": "python",
   "nbconvert_exporter": "python",
   "pygments_lexer": "ipython3",
   "version": "3.10.14"
  }
 },
 "nbformat": 4,
 "nbformat_minor": 2
}
